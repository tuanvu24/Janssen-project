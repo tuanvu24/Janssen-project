{
 "cells": [
  {
   "cell_type": "code",
   "execution_count": 1,
   "id": "c45ab5e1",
   "metadata": {},
   "outputs": [],
   "source": [
    "import pandas as pd\n",
    "import matplotlib.pyplot as plt\n",
    "import numpy as np\n",
    "from sklearn.metrics import confusion_matrix\n",
    "\n",
    "import torch\n",
    "import torch.nn as nn\n",
    "import torch.optim as optim\n",
    "from torch.utils.data import Dataset, DataLoader, random_split\n",
    "import torchvision\n",
    "from torchvision import transforms\n",
    "from torch.utils.data import TensorDataset, DataLoader, random_split"
   ]
  },
  {
   "cell_type": "code",
   "execution_count": 2,
   "id": "f2ff3683",
   "metadata": {},
   "outputs": [
    {
     "name": "stdout",
     "output_type": "stream",
     "text": [
      "Using device: cuda\n"
     ]
    }
   ],
   "source": [
    "device = torch.device('cuda' if torch.cuda.is_available() else 'cpu')\n",
    "print('Using device:', device)"
   ]
  },
  {
   "cell_type": "code",
   "execution_count": 3,
   "id": "383c1089",
   "metadata": {},
   "outputs": [
    {
     "name": "stdout",
     "output_type": "stream",
     "text": [
      "    71381 cells/ 500 genes  Min_cell  Max_cell  Mean_cell  \\\n",
      "0                     PDK4         0        26   0.295485   \n",
      "1                    CCL26         0         9   0.043177   \n",
      "2                   CX3CL1         0        62   0.350696   \n",
      "3                      CD4         0        19   0.121741   \n",
      "4                    SNAI2         0        15   0.235875   \n",
      "..                     ...       ...       ...        ...   \n",
      "495                  VEGFC         0        19   0.067371   \n",
      "496                    IL4         0         3   0.033454   \n",
      "497                  IL17A         0         3   0.016727   \n",
      "498                  CXCR5         0         2   0.017161   \n",
      "499                   IL21         0         2   0.011095   \n",
      "\n",
      "     1 to select/ 0 for non  random 0-1  random 0-1 fixed   fake prot levels  \n",
      "0                         0    0.886975          0.392224                  0  \n",
      "1                         0    0.446656          0.853176                  0  \n",
      "2                         0    0.206968          0.918952                  0  \n",
      "3                         1    0.688898          0.700409  0.700409125283346  \n",
      "4                         0    0.535263          0.667827                  0  \n",
      "..                      ...         ...               ...                ...  \n",
      "495                       0    0.977538          0.013945                  0  \n",
      "496                       0    0.158594          0.692667                  0  \n",
      "497                       0    0.028950          0.588478                  0  \n",
      "498                       0    0.108650          0.164270                  0  \n",
      "499                       0    0.861605          0.197163                  0  \n",
      "\n",
      "[500 rows x 8 columns]\n"
     ]
    }
   ],
   "source": [
    "df = pd.read_csv('~/Documents/Vu/AI/statistique_gens_par_cellule.csv')\n",
    "\n",
    "print(df)"
   ]
  },
  {
   "cell_type": "code",
   "execution_count": 4,
   "id": "3adc59d3",
   "metadata": {},
   "outputs": [],
   "source": [
    "# Generate synthetic protein dataset\n",
    "# import random\n",
    "\n",
    "# syntprotein = pd.read_csv('~/Documents/Vu/AI/HumanOvarianCancerPatient2Slice2_cell_by_gene.csv')\n",
    "# print(syntprotein)\n",
    "\n",
    "# l_random = [random.random() for i in range(12)]\n",
    "# list_genes = ['cell', 'CD4', 'LAG3', 'GZMB', 'HAVCR2', 'CD8A', 'MYC', 'TIGIT', 'CD8B', 'VSIR', 'CD163', 'CD226', 'CD68']\n",
    "\n",
    "# for i, gene in enumerate(syntprotein.columns[:]):\n",
    "#     if gene not in list_genes:\n",
    "#         syntprotein.drop(gene, inplace=True, axis=1)\n",
    "        \n",
    "# for i in range(syntprotein.shape[0]):\n",
    "#     syntprotein.loc[i, syntprotein.columns[1:]] *= l_random\n",
    "    \n",
    "# print(syntprotein.shape[0])\n",
    "# print(syntprotein.loc[0, syntprotein.columns[1:]])\n",
    "# syntprotein.to_csv('Synthetic_protein.csv', index = True)"
   ]
  },
  {
   "cell_type": "code",
   "execution_count": 5,
   "id": "8169cecb",
   "metadata": {},
   "outputs": [
    {
     "name": "stdout",
     "output_type": "stream",
     "text": [
      "        cell  CD4  LAG3      GZMB  HAVCR2  CD8A       MYC     TIGIT  CD8B  \\\n",
      "0          0  0.0   0.0  0.000000     0.0   0.0  0.000000  0.000000   0.0   \n",
      "1          1  0.0   0.0  0.000000     0.0   0.0  0.000000  0.000000   0.0   \n",
      "2          2  0.0   0.0  0.000000     0.0   0.0  0.000000  0.000000   0.0   \n",
      "3          3  0.0   0.0  0.000000     0.0   0.0  1.033913  0.000000   0.0   \n",
      "4          4  0.0   0.0  0.000000     0.0   0.0  0.000000  0.000000   0.0   \n",
      "...      ...  ...   ...       ...     ...   ...       ...       ...   ...   \n",
      "71376  71376  0.0   0.0  0.202634     0.0   0.0  0.295404  0.000000   0.0   \n",
      "71377  71377  0.0   0.0  0.000000     0.0   0.0  1.624721  0.000000   0.0   \n",
      "71378  71378  0.0   0.0  0.000000     0.0   0.0  0.147702  0.981027   0.0   \n",
      "71379  71379  0.0   0.0  0.000000     0.0   0.0  0.738510  0.000000   0.0   \n",
      "71380  71380  0.0   0.0  0.000000     0.0   0.0  0.000000  0.000000   0.0   \n",
      "\n",
      "           VSIR  CD163  CD226  CD68  \n",
      "0      0.000000    0.0    0.0   0.0  \n",
      "1      0.000000    0.0    0.0   0.0  \n",
      "2      0.000000    0.0    0.0   0.0  \n",
      "3      0.000000    0.0    0.0   0.0  \n",
      "4      0.513219    0.0    0.0   0.0  \n",
      "...         ...    ...    ...   ...  \n",
      "71376  0.000000    0.0    0.0   0.0  \n",
      "71377  0.000000    0.0    0.0   0.0  \n",
      "71378  0.000000    0.0    0.0   0.0  \n",
      "71379  0.000000    0.0    0.0   0.0  \n",
      "71380  0.000000    0.0    0.0   0.0  \n",
      "\n",
      "[71381 rows x 13 columns]\n"
     ]
    }
   ],
   "source": [
    "syntprotein = pd.read_csv('~/Documents/Vu/data/Synthetic_protein.csv')\n",
    "syntprotein.drop('Unnamed: 0', inplace=True, axis=1)\n",
    "print(syntprotein)"
   ]
  },
  {
   "cell_type": "code",
   "execution_count": 6,
   "id": "efd6fa4e",
   "metadata": {},
   "outputs": [
    {
     "name": "stdout",
     "output_type": "stream",
     "text": [
      "       PDK4  CCL26  CX3CL1  CD4  SNAI2  TNFRSF17  ICAM3  TBX21  FAP  NFKB2  \\\n",
      "0       0.0    0.0     0.0  0.0    0.0       0.0    0.0    0.0  0.0    0.0   \n",
      "1       0.0    0.0     0.0  0.0    0.0       0.0    0.0    0.0  0.0    0.0   \n",
      "2       0.0    0.0     0.0  0.0    0.0       0.0    0.0    0.0  0.0    0.0   \n",
      "3       0.0    0.0     1.0  0.0    0.0       1.0    0.0    0.0  0.0    4.0   \n",
      "4       0.0    0.0     0.0  0.0    0.0       0.0    0.0    0.0  0.0    0.0   \n",
      "...     ...    ...     ...  ...    ...       ...    ...    ...  ...    ...   \n",
      "71376   1.0    0.0     0.0  0.0    1.0       0.0    1.0    0.0  0.0    0.0   \n",
      "71377   0.0    0.0     0.0  0.0    0.0       1.0    0.0    0.0  0.0    2.0   \n",
      "71378   0.0    0.0     2.0  0.0    0.0       0.0    0.0    0.0  0.0    0.0   \n",
      "71379   0.0    0.0     0.0  0.0    0.0       0.0    1.0    0.0  0.0    1.0   \n",
      "71380   0.0    0.0     0.0  0.0    0.0       0.0    0.0    0.0  0.0    0.0   \n",
      "\n",
      "       ...  Blank-20  Blank-31  Blank-34  CXCR5  IL21  Blank-17  Blank-29  \\\n",
      "0      ...       0.0       0.0       0.0    0.0   0.0       0.0       0.0   \n",
      "1      ...       0.0       0.0       0.0    0.0   0.0       0.0       0.0   \n",
      "2      ...       0.0       0.0       0.0    0.0   0.0       0.0       0.0   \n",
      "3      ...       0.0       0.0       0.0    0.0   0.0       0.0       0.0   \n",
      "4      ...       0.0       0.0       0.0    0.0   0.0       0.0       0.0   \n",
      "...    ...       ...       ...       ...    ...   ...       ...       ...   \n",
      "71376  ...       0.0       0.0       0.0    0.0   0.0       1.0       0.0   \n",
      "71377  ...       0.0       0.0       0.0    0.0   0.0       0.0       0.0   \n",
      "71378  ...       0.0       0.0       0.0    0.0   0.0       0.0       0.0   \n",
      "71379  ...       0.0       0.0       0.0    0.0   0.0       0.0       0.0   \n",
      "71380  ...       0.0       0.0       0.0    0.0   0.0       0.0       0.0   \n",
      "\n",
      "       Blank-32  Blank-46  Blank-24  \n",
      "0           0.0       0.0       0.0  \n",
      "1           0.0       0.0       0.0  \n",
      "2           0.0       0.0       0.0  \n",
      "3           0.0       0.0       0.0  \n",
      "4           0.0       0.0       0.0  \n",
      "...         ...       ...       ...  \n",
      "71376       0.0       0.0       0.0  \n",
      "71377       0.0       0.0       0.0  \n",
      "71378       0.0       0.0       0.0  \n",
      "71379       0.0       0.0       0.0  \n",
      "71380       0.0       0.0       0.0  \n",
      "\n",
      "[71381 rows x 550 columns]\n"
     ]
    }
   ],
   "source": [
    "mARN_df = pd.read_csv('~/Documents/Vu/AI/HumanOvarianCancerPatient2Slice2_cell_by_gene.csv')\n",
    "mARN_df.drop('cell', inplace=True, axis=1)\n",
    "print(mARN_df)"
   ]
  },
  {
   "cell_type": "code",
   "execution_count": 7,
   "id": "38f7c2a4",
   "metadata": {},
   "outputs": [],
   "source": [
    "tensor = torch.Tensor(mARN_df.values)\n",
    "dataset = TensorDataset(tensor)\n",
    "# Diviser les données en ensembles d'entraînement et de test\n",
    "train_size = int(0.8 * len(tensor))  # 80% des données pour l'entraînement\n",
    "test_size = len(tensor) - train_size  # 20% des données pour le test\n",
    "X_train, X_test = random_split(tensor, [train_size, test_size])\n",
    "\n",
    "train_dataloader = DataLoader(X_train, batch_size=64, shuffle=True)\n",
    "test_dataloader = DataLoader(X_test, batch_size=64, shuffle=False)"
   ]
  },
  {
   "cell_type": "code",
   "execution_count": 8,
   "id": "a95dee0a",
   "metadata": {},
   "outputs": [
    {
     "name": "stdout",
     "output_type": "stream",
     "text": [
      "57104\n"
     ]
    },
    {
     "data": {
      "text/plain": [
       "893"
      ]
     },
     "execution_count": 8,
     "metadata": {},
     "output_type": "execute_result"
    }
   ],
   "source": [
    "print(len(X_train))\n",
    "len(train_dataloader)"
   ]
  },
  {
   "cell_type": "code",
   "execution_count": 24,
   "id": "e3d3ac68",
   "metadata": {},
   "outputs": [],
   "source": [
    "class AutoEncoder(nn.Module):\n",
    "    def __init__(self):\n",
    "#         super(AutoEncoder, self).__init__()\n",
    "        super().__init__()\n",
    "        self.encoder = nn.Sequential(\n",
    "            nn.Linear(784, 128),\n",
    "            nn.ReLU(),\n",
    "            nn.Linear(128, 64),\n",
    "            nn.ReLU(),\n",
    "            nn.Linear(64, 10)\n",
    "        )\n",
    "        \n",
    "        self.decoder = nn.Sequential(\n",
    "            nn.Linear(10, 64),\n",
    "            nn.ReLU(),\n",
    "            nn.Linear(64, 128),\n",
    "            nn.ReLU(),\n",
    "            nn.Linear(128, 784),\n",
    "            nn.Sigmoid()\n",
    "        )\n",
    "    \n",
    "    def forward(self, x):\n",
    "        encoded = self.encoder(x)\n",
    "        decoded = self.decoder(encoded)\n",
    "        return decoded"
   ]
  },
  {
   "cell_type": "code",
   "execution_count": 10,
   "id": "4ff2f0a5",
   "metadata": {},
   "outputs": [
    {
     "name": "stdout",
     "output_type": "stream",
     "text": [
      "torch.Size([550])\n",
      "893\n",
      "torch.Size([64, 550])\n"
     ]
    }
   ],
   "source": [
    "for data in train_dataloader:\n",
    "    print(data[1].shape)\n",
    "    break\n",
    "print(len(train_dataloader))\n",
    "print(data.shape)"
   ]
  },
  {
   "cell_type": "code",
   "execution_count": 27,
   "id": "eab5b4e1",
   "metadata": {},
   "outputs": [
    {
     "name": "stdout",
     "output_type": "stream",
     "text": [
      "Epoch : 1/40, Loss = 0.0001\n",
      "Epoch : 2/40, Loss = 0.0001\n",
      "Epoch : 3/40, Loss = 0.0000\n",
      "Epoch : 4/40, Loss = 0.0000\n",
      "Epoch : 5/40, Loss = 0.0000\n",
      "Epoch : 6/40, Loss = 0.0000\n",
      "Epoch : 7/40, Loss = 0.0000\n",
      "Epoch : 8/40, Loss = 0.0001\n",
      "Epoch : 9/40, Loss = 0.0000\n",
      "Epoch : 10/40, Loss = 0.0000\n",
      "Epoch : 11/40, Loss = 0.0000\n",
      "Epoch : 12/40, Loss = 0.0000\n",
      "Epoch : 13/40, Loss = 0.0000\n",
      "Epoch : 14/40, Loss = 0.0000\n",
      "Epoch : 15/40, Loss = 0.0000\n",
      "Epoch : 16/40, Loss = 0.0000\n",
      "Epoch : 17/40, Loss = 0.0000\n",
      "Epoch : 18/40, Loss = 0.0000\n",
      "Epoch : 19/40, Loss = 0.0000\n",
      "Epoch : 20/40, Loss = 0.0000\n",
      "Epoch : 21/40, Loss = 0.0000\n",
      "Epoch : 22/40, Loss = 0.0000\n",
      "Epoch : 23/40, Loss = 0.0000\n",
      "Epoch : 24/40, Loss = 0.0000\n",
      "Epoch : 25/40, Loss = 0.0000\n",
      "Epoch : 26/40, Loss = 0.0000\n",
      "Epoch : 27/40, Loss = 0.0000\n",
      "Epoch : 28/40, Loss = 0.0000\n",
      "Epoch : 29/40, Loss = 0.0000\n",
      "Epoch : 30/40, Loss = 0.0000\n",
      "Epoch : 31/40, Loss = 0.0000\n",
      "Epoch : 32/40, Loss = 0.0000\n",
      "Epoch : 33/40, Loss = 0.0000\n",
      "Epoch : 34/40, Loss = 0.0000\n",
      "Epoch : 35/40, Loss = 0.0000\n",
      "Epoch : 36/40, Loss = 0.0000\n",
      "Epoch : 37/40, Loss = 0.0000\n",
      "Epoch : 38/40, Loss = 0.0000\n",
      "Epoch : 39/40, Loss = 0.0000\n",
      "Epoch : 40/40, Loss = 0.0000\n"
     ]
    }
   ],
   "source": [
    "model = AutoEncoder().to(device)\n",
    "\n",
    "# Define optimizer and loss function\n",
    "criterion = nn.MSELoss()\n",
    "optimizer = optim.Adam(model.parameters(), lr=0.001)\n",
    "\n",
    "Losses=[]\n",
    "# Training the auto encoder\n",
    "num_epochs = 40\n",
    "for epoch in range(num_epochs):\n",
    "    loss = 0\n",
    "    for (data, _) in train_dataloader:\n",
    "        # Move the data to the device\n",
    "        data = data.reshape(-1, 784)\n",
    "        data = data.to(device)\n",
    "\n",
    "        # Forward pass\n",
    "        outputs = model(data)\n",
    "        loss = criterion(outputs, data)\n",
    "   \n",
    "        # Backward pass and optimization\n",
    "        optimizer.zero_grad()\n",
    "        loss.backward()\n",
    "        optimizer.step()\n",
    "        loss += loss.item()\n",
    "\n",
    "    Losses.append(loss / len(train_dataloader))\n",
    "    \n",
    "    # Display the loss at each epoch\n",
    "    print(f'Epoch : {epoch+1}/{num_epochs}, Loss = {Losses[-1]:.4f}')"
   ]
  },
  {
   "cell_type": "code",
   "execution_count": 23,
   "id": "282648fe",
   "metadata": {},
   "outputs": [
    {
     "data": {
      "image/png": "[encoded data removed]",
      "text/plain": [
       "<Figure size 720x288 with 10 Axes>"
      ]
     },
     "metadata": {
      "needs_background": "light"
     },
     "output_type": "display_data"
    },
    {
     "name": "stdout",
     "output_type": "stream",
     "text": [
      "60000\n"
     ]
    }
   ],
   "source": [
    "# Display some sample images\n",
    "# fig, axes = plt.subplots(nrows=2, ncols=5, figsize=(10, 4))\n",
    "# for i in range(2):\n",
    "#     for j in range(5):\n",
    "#         index = i * 5 + j\n",
    "#         image, label = train_dataset[index]\n",
    "#         axes[i, j].imshow(image.reshape(28,28), cmap='gray')\n",
    "#         axes[i, j].set_title(f'Label: {label}')\n",
    "#         axes[i, j].axis('off')\n",
    "\n",
    "# plt.tight_layout()\n",
    "# plt.show()\n",
    "# print(len(train_dataset))"
   ]
  },
  {
   "cell_type": "code",
   "execution_count": null,
   "id": "6f272c52",
   "metadata": {},
   "outputs": [],
   "source": [
    "train_dataset = torchvision.datasets.MNIST(root='./data', train=True, transform=torchvision.transforms.ToTensor(), download=True)\n",
    "train_dataloader = DataLoader(dataset=train_dataset, batch_size=64, shuffle=True)"
   ]
  },
  {
   "cell_type": "code",
   "execution_count": 27,
   "id": "2790252c",
   "metadata": {},
   "outputs": [
    {
     "name": "stdout",
     "output_type": "stream",
     "text": [
      "Epoch : 1/25, Loss = 0.0000594\n",
      "Epoch : 2/25, Loss = 0.0000531\n",
      "Epoch : 3/25, Loss = 0.0000469\n",
      "Epoch : 4/25, Loss = 0.0000456\n",
      "Epoch : 5/25, Loss = 0.0000444\n",
      "Epoch : 6/25, Loss = 0.0000416\n",
      "Epoch : 7/25, Loss = 0.0000502\n",
      "Epoch : 8/25, Loss = 0.0000446\n",
      "Epoch : 9/25, Loss = 0.0000386\n",
      "Epoch : 10/25, Loss = 0.0000387\n",
      "Epoch : 11/25, Loss = 0.0000316\n",
      "Epoch : 12/25, Loss = 0.0000331\n",
      "Epoch : 13/25, Loss = 0.0000327\n",
      "Epoch : 14/25, Loss = 0.0000399\n",
      "Epoch : 15/25, Loss = 0.0000373\n",
      "Epoch : 16/25, Loss = 0.0000343\n",
      "Epoch : 17/25, Loss = 0.0000343\n",
      "Epoch : 18/25, Loss = 0.0000456\n",
      "Epoch : 19/25, Loss = 0.0000343\n",
      "Epoch : 20/25, Loss = 0.0000311\n",
      "Epoch : 21/25, Loss = 0.0000286\n",
      "Epoch : 22/25, Loss = 0.0000336\n",
      "Epoch : 23/25, Loss = 0.0000316\n",
      "Epoch : 24/25, Loss = 0.0000310\n",
      "Epoch : 25/25, Loss = 0.0000287\n"
     ]
    }
   ],
   "source": [
    "model = AutoEncoder()\n",
    "criterion = nn.MSELoss()\n",
    "optimizer = optim.Adam(model.parameters(), lr=0.001)\n",
    "\n",
    "input_size = 784\n",
    "total_steps = len(train_dataloader)\n",
    "num_epochs = 25\n",
    "Losses = []\n",
    "for epoch in range(num_epochs):\n",
    "    loss = 0\n",
    "    \n",
    "    for i, (images, _) in enumerate(train_dataloader):\n",
    "        # Reshape images to 1D tensor\n",
    "        images = images.reshape(-1, input_size)\n",
    "        # Forward pass\n",
    "        outputs = model(images)\n",
    "        loss = criterion(outputs, images)\n",
    "\n",
    "        # Backward and optimize\n",
    "        optimizer.zero_grad()\n",
    "        loss.backward()\n",
    "        optimizer.step()\n",
    "\n",
    "        loss += loss.item()\n",
    "\n",
    "    Losses.append(loss / len(train_dataloader))\n",
    "    \n",
    "    # Display the loss at each epoch\n",
    "    print(f'Epoch : {epoch+1}/{num_epochs}, Loss = {Losses[-1]:.7f}')\n",
    "\n"
   ]
  },
  {
   "cell_type": "code",
   "execution_count": 54,
   "id": "f68b8a2e",
   "metadata": {},
   "outputs": [
    {
     "name": "stdout",
     "output_type": "stream",
     "text": [
      "60000\n",
      "938\n",
      "torch.Size([64, 1, 28, 28])\n",
      "torch.Size([64, 784])\n"
     ]
    }
   ],
   "source": [
    "print(len(train_dataset))\n",
    "print(len(train_dataloader))\n",
    "input_size = 784\n",
    "for i, (images, _) in enumerate(train_dataloader):\n",
    "    print(images.shape)\n",
    "    images = images.reshape(-1,input_size)\n",
    "    images = images.to(device)\n",
    "    print(images.shape)\n",
    "    break"
   ]
  },
  {
   "cell_type": "code",
   "execution_count": 40,
   "id": "671ae8b8",
   "metadata": {},
   "outputs": [
    {
     "data": {
      "image/png": "[encoded data removed]",
      "text/plain": [
       "<Figure size 720x432 with 20 Axes>"
      ]
     },
     "metadata": {
      "needs_background": "light"
     },
     "output_type": "display_data"
    }
   ],
   "source": [
    "# Test the autoencoder\n",
    "batch_size = 64\n",
    "with torch.no_grad():\n",
    "    # Generate a batch of random images\n",
    "    #random_images = torch.randn(batch_size, input_size)\n",
    "    for i, (images, _) in enumerate(train_dataloader):\n",
    "        img = images\n",
    "        break\n",
    "    img = img.reshape(-1, input_size)\n",
    "    decoded_images = model(img)\n",
    "\n",
    "    # Display the original and reconstructed images\n",
    "    import matplotlib.pyplot as plt\n",
    "\n",
    "    fig, axes = plt.subplots(nrows=2, ncols=10, sharex=True, sharey=True, figsize=(10, 6))\n",
    "    for i in range(10):\n",
    "        axes[0, i].imshow(images[i].reshape(28, 28), cmap='gray')\n",
    "        axes[0, i].axis('off')\n",
    "        axes[1, i].imshow(decoded_images[i].reshape(28, 28), cmap='gray')\n",
    "        axes[1, i].axis('off')\n",
    "\n",
    "    plt.show()"
   ]
  },
  {
   "cell_type": "code",
   "execution_count": 41,
   "id": "a01de23a",
   "metadata": {},
   "outputs": [
    {
     "data": {
      "image/png": "[encoded data removed]",
      "text/plain": [
       "<Figure size 648x432 with 1 Axes>"
      ]
     },
     "metadata": {
      "needs_background": "light"
     },
     "output_type": "display_data"
    }
   ],
   "source": [
    "plt.figure(figsize=(9,6))\n",
    "L = []\n",
    "for l in Losses:\n",
    "    loss_batch = l.detach().cpu().numpy()\n",
    "    L.append(loss_batch)\n",
    "plt.semilogy(L, label='Train loss')\n",
    "# plt.semilogy(val_loss_log, label='Val loss')\n",
    "plt.xlabel(\"Epochs\")\n",
    "plt.ylabel(\"Loss\")\n",
    "plt.legend()\n",
    "plt.grid(axis=\"y\", which=\"minor\", linestyle=\"--\")\n",
    "# plt.grid(axis=\"y\", which=\"major\")\n",
    "plt.tight_layout()"
   ]
  }
 ],
 "metadata": {
  "kernelspec": {
   "display_name": "Python 3 (ipykernel)",
   "language": "python",
   "name": "python3"
  },
  "language_info": {
   "codemirror_mode": {
    "name": "ipython",
    "version": 3
   },
   "file_extension": ".py",
   "mimetype": "text/x-python",
   "name": "python",
   "nbconvert_exporter": "python",
   "pygments_lexer": "ipython3",
   "version": "3.9.10"
  }
 },
 "nbformat": 4,
 "nbformat_minor": 5
}
